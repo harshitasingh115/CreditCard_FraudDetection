{
 "cells": [
  {
   "cell_type": "code",
   "execution_count": 1,
   "id": "6466da84",
   "metadata": {},
   "outputs": [],
   "source": [
    "import pandas as pd"
   ]
  },
  {
   "cell_type": "code",
   "execution_count": 2,
   "id": "be4ce7c4",
   "metadata": {},
   "outputs": [],
   "source": [
    "import numpy as np"
   ]
  },
  {
   "cell_type": "code",
   "execution_count": 3,
   "id": "e91cd2ab",
   "metadata": {},
   "outputs": [],
   "source": [
    "import matplotlib.pyplot as plt"
   ]
  },
  {
   "cell_type": "code",
   "execution_count": 4,
   "id": "018929e3",
   "metadata": {},
   "outputs": [],
   "source": [
    "pd.excelFraudSheet = pd.read_excel(r\"C:\\Users\\Nirmoh\\PycharmProjects\\Harshita_FraudDetection\\CC-3Y-Transactions.xlsx\")"
   ]
  },
  {
   "cell_type": "code",
   "execution_count": 5,
   "id": "9ba4c98f",
   "metadata": {},
   "outputs": [
    {
     "data": {
      "text/html": [
       "<div>\n",
       "<style scoped>\n",
       "    .dataframe tbody tr th:only-of-type {\n",
       "        vertical-align: middle;\n",
       "    }\n",
       "\n",
       "    .dataframe tbody tr th {\n",
       "        vertical-align: top;\n",
       "    }\n",
       "\n",
       "    .dataframe thead th {\n",
       "        text-align: right;\n",
       "    }\n",
       "</style>\n",
       "<table border=\"1\" class=\"dataframe\">\n",
       "  <thead>\n",
       "    <tr style=\"text-align: right;\">\n",
       "      <th></th>\n",
       "      <th>City</th>\n",
       "      <th>Date</th>\n",
       "      <th>Card Type</th>\n",
       "      <th>Exp Type</th>\n",
       "      <th>Gender</th>\n",
       "      <th>Amount</th>\n",
       "    </tr>\n",
       "  </thead>\n",
       "  <tbody>\n",
       "    <tr>\n",
       "      <th>0</th>\n",
       "      <td>Delhi, India</td>\n",
       "      <td>2014-10-29</td>\n",
       "      <td>Gold</td>\n",
       "      <td>Bills</td>\n",
       "      <td>F</td>\n",
       "      <td>82475</td>\n",
       "    </tr>\n",
       "    <tr>\n",
       "      <th>1</th>\n",
       "      <td>Greater Mumbai, India</td>\n",
       "      <td>2014-08-22</td>\n",
       "      <td>Platinum</td>\n",
       "      <td>Bills</td>\n",
       "      <td>F</td>\n",
       "      <td>32555</td>\n",
       "    </tr>\n",
       "    <tr>\n",
       "      <th>2</th>\n",
       "      <td>Bengaluru, India</td>\n",
       "      <td>2014-08-27</td>\n",
       "      <td>Silver</td>\n",
       "      <td>Bills</td>\n",
       "      <td>F</td>\n",
       "      <td>101738</td>\n",
       "    </tr>\n",
       "    <tr>\n",
       "      <th>3</th>\n",
       "      <td>Greater Mumbai, India</td>\n",
       "      <td>2014-04-12</td>\n",
       "      <td>Signature</td>\n",
       "      <td>Bills</td>\n",
       "      <td>F</td>\n",
       "      <td>123424</td>\n",
       "    </tr>\n",
       "    <tr>\n",
       "      <th>4</th>\n",
       "      <td>Bengaluru, India</td>\n",
       "      <td>2015-05-05</td>\n",
       "      <td>Gold</td>\n",
       "      <td>Bills</td>\n",
       "      <td>F</td>\n",
       "      <td>171574</td>\n",
       "    </tr>\n",
       "  </tbody>\n",
       "</table>\n",
       "</div>"
      ],
      "text/plain": [
       "                    City       Date  Card Type Exp Type Gender  Amount\n",
       "0           Delhi, India 2014-10-29       Gold    Bills      F   82475\n",
       "1  Greater Mumbai, India 2014-08-22   Platinum    Bills      F   32555\n",
       "2       Bengaluru, India 2014-08-27     Silver    Bills      F  101738\n",
       "3  Greater Mumbai, India 2014-04-12  Signature    Bills      F  123424\n",
       "4       Bengaluru, India 2015-05-05       Gold    Bills      F  171574"
      ]
     },
     "execution_count": 5,
     "metadata": {},
     "output_type": "execute_result"
    }
   ],
   "source": [
    "pd.excelFraudSheet.head()"
   ]
  },
  {
   "cell_type": "code",
   "execution_count": 6,
   "id": "955058e7",
   "metadata": {},
   "outputs": [
    {
     "name": "stdout",
     "output_type": "stream",
     "text": [
      "                        City       Date  Card Type Exp Type Gender  Amount  \\\n",
      "0               Delhi, India 2014-10-29       Gold    Bills      F   82475   \n",
      "1      Greater Mumbai, India 2014-08-22   Platinum    Bills      F   32555   \n",
      "2           Bengaluru, India 2014-08-27     Silver    Bills      F  101738   \n",
      "3      Greater Mumbai, India 2014-04-12  Signature    Bills      F  123424   \n",
      "4           Bengaluru, India 2015-05-05       Gold    Bills      F  171574   \n",
      "...                      ...        ...        ...      ...    ...     ...   \n",
      "26047         Kolkata, India 2014-06-22     Silver   Travel      F  128191   \n",
      "26048            Pune, India 2014-08-03  Signature   Travel      M  246316   \n",
      "26049       Hyderabad, India 2015-01-16     Silver   Travel      M  265019   \n",
      "26050          Kanpur, India 2014-09-14     Silver   Travel      M   88174   \n",
      "26051       Hyderabad, India 2013-10-19  Signature    Bills      M  184410   \n",
      "\n",
      "       Year  \n",
      "0      2014  \n",
      "1      2014  \n",
      "2      2014  \n",
      "3      2014  \n",
      "4      2015  \n",
      "...     ...  \n",
      "26047  2014  \n",
      "26048  2014  \n",
      "26049  2015  \n",
      "26050  2014  \n",
      "26051  2013  \n",
      "\n",
      "[26052 rows x 7 columns]\n"
     ]
    }
   ],
   "source": [
    "pd.excelFraudSheet['Year']= pd.excelFraudSheet['Date'].dt.year\n",
    "df =pd.excelFraudSheet\n",
    "print(df)"
   ]
  },
  {
   "cell_type": "code",
   "execution_count": 7,
   "id": "25c882de",
   "metadata": {
    "scrolled": true
   },
   "outputs": [
    {
     "name": "stdout",
     "output_type": "stream",
     "text": [
      "Year            2013                                                      \\\n",
      "City   Kanpur, India Greater Mumbai, India Delhi, India Bengaluru, India   \n",
      "Amount      19640338              84735652     82126961         84999287   \n",
      "\n",
      "Year                     \n",
      "City   Ahmedabad, India  \n",
      "Amount         83291837  \n"
     ]
    }
   ],
   "source": [
    "excelFraudSheet_2013 = df[df.Year==2013]\n",
    "sum_df_2013 = excelFraudSheet_2013.groupby(['Year','City']).agg({'Amount': 'sum'}).nlargest(5,'Amount').sort_values('City', ascending=False).transpose()\n",
    "print(sum_df_2013)"
   ]
  },
  {
   "cell_type": "code",
   "execution_count": 8,
   "id": "c31e7fb9",
   "metadata": {
    "scrolled": true
   },
   "outputs": [
    {
     "name": "stdout",
     "output_type": "stream",
     "text": [
      "Year               2014                                                      \\\n",
      "City   Hyderabad, India Greater Mumbai, India Delhi, India Bengaluru, India   \n",
      "Amount         71066005             349709415    329591186        351482095   \n",
      "\n",
      "Year                     \n",
      "City   Ahmedabad, India  \n",
      "Amount        348289187  \n"
     ]
    }
   ],
   "source": [
    "excelFraudSheet_2014 = df[df.Year==2014]\n",
    "sum_df_2014 = excelFraudSheet_2014.groupby(['Year','City']).agg({'Amount': 'sum'}).nlargest(5,'Amount').sort_values('City', ascending=False).transpose()\n",
    "print(sum_df_2014)"
   ]
  },
  {
   "cell_type": "code",
   "execution_count": 9,
   "id": "eed35c02",
   "metadata": {
    "scrolled": false
   },
   "outputs": [
    {
     "name": "stdout",
     "output_type": "stream",
     "text": [
      "Year             2015                                                      \\\n",
      "City   Kolkata, India Greater Mumbai, India Delhi, India Bengaluru, India   \n",
      "Amount       30918731             142306409    145211065        135845357   \n",
      "\n",
      "Year                     \n",
      "City   Ahmedabad, India  \n",
      "Amount        136213286  \n"
     ]
    }
   ],
   "source": [
    "excelFraudSheet_2015 = df[df.Year==2015]\n",
    "sum_df_2015 = excelFraudSheet_2015.groupby(['Year','City']).agg({'Amount': 'sum'}).nlargest(5,'Amount').sort_values('City', ascending=False).transpose()\n",
    "print(sum_df_2015)"
   ]
  },
  {
   "cell_type": "code",
   "execution_count": 10,
   "id": "4755409a",
   "metadata": {},
   "outputs": [
    {
     "name": "stdout",
     "output_type": "stream",
     "text": [
      "                               Amount\n",
      "Year City                            \n",
      "2015 Delhi, India           145211065\n",
      "2014 Greater Mumbai, India  349709415\n",
      "     Delhi, India           329591186\n",
      "     Bengaluru, India       351482095\n",
      "     Ahmedabad, India       348289187\n"
     ]
    }
   ],
   "source": [
    "sum_df = df.groupby(['Year','City']).agg({'Amount': 'sum'}).nlargest(5,'Amount').sort_values(['Year','City'], ascending=False)\n",
    "print(sum_df)"
   ]
  },
  {
   "cell_type": "code",
   "execution_count": 11,
   "id": "03bf5866",
   "metadata": {
    "scrolled": true
   },
   "outputs": [
    {
     "data": {
      "image/png": "[encoded data removed]",
      "text/plain": [
       "<Figure size 1080x576 with 1 Axes>"
      ]
     },
     "metadata": {
      "needs_background": "light"
     },
     "output_type": "display_data"
    }
   ],
   "source": [
    "pivot = pd.pivot_table(df,index=['City', 'Year'], values=['Amount'], aggfunc='sum').nlargest(5,'Amount').sort_values(['Year','City'], ascending=False).plot(kind='bar',figsize=(15,8))\n",
    "plt.legend(loc='upper right')\n",
    "plt.show()"
   ]
  },
  {
   "cell_type": "code",
   "execution_count": 12,
   "id": "514c5318",
   "metadata": {},
   "outputs": [
    {
     "data": {
      "image/png": "[encoded data removed]",
      "text/plain": [
       "<Figure size 1080x720 with 1 Axes>"
      ]
     },
     "metadata": {
      "needs_background": "light"
     },
     "output_type": "display_data"
    }
   ],
   "source": [
    "pivot = pd.pivot_table(df.groupby(['Year','City']).agg({'Amount': 'sum'}).nlargest(13,'Amount'), index='Year', columns='City', values='Amount', aggfunc='sum').plot(kind='bar',figsize=(15,10), colormap='rainbow', linewidth=2)\n",
    "plt.legend(loc='right', bbox_to_anchor=(1.3, 0.5))\n",
    "plt.show()"
   ]
  },
  {
   "cell_type": "code",
   "execution_count": 13,
   "id": "0a5de0b6",
   "metadata": {
    "scrolled": true
   },
   "outputs": [
    {
     "name": "stdout",
     "output_type": "stream",
     "text": [
      "                        City       Date  Card Type Exp Type Gender  Amount  \\\n",
      "0               Delhi, India 2014-10-29       Gold    Bills      F   82475   \n",
      "1      Greater Mumbai, India 2014-08-22   Platinum    Bills      F   32555   \n",
      "2           Bengaluru, India 2014-08-27     Silver    Bills      F  101738   \n",
      "3      Greater Mumbai, India 2014-04-12  Signature    Bills      F  123424   \n",
      "4           Bengaluru, India 2015-05-05       Gold    Bills      F  171574   \n",
      "...                      ...        ...        ...      ...    ...     ...   \n",
      "26047         Kolkata, India 2014-06-22     Silver   Travel      F  128191   \n",
      "26048            Pune, India 2014-08-03  Signature   Travel      M  246316   \n",
      "26049       Hyderabad, India 2015-01-16     Silver   Travel      M  265019   \n",
      "26050          Kanpur, India 2014-09-14     Silver   Travel      M   88174   \n",
      "26051       Hyderabad, India 2013-10-19  Signature    Bills      M  184410   \n",
      "\n",
      "       Year  Quarter  \n",
      "0      2014        4  \n",
      "1      2014        3  \n",
      "2      2014        3  \n",
      "3      2014        2  \n",
      "4      2015        2  \n",
      "...     ...      ...  \n",
      "26047  2014        2  \n",
      "26048  2014        3  \n",
      "26049  2015        1  \n",
      "26050  2014        3  \n",
      "26051  2013        4  \n",
      "\n",
      "[26052 rows x 8 columns]\n"
     ]
    }
   ],
   "source": [
    "pd.excelFraudSheet['Quarter'] = pd.excelFraudSheet['Date'].dt.quarter\n",
    "df =pd.excelFraudSheet\n",
    "print(df)"
   ]
  },
  {
   "cell_type": "code",
   "execution_count": 14,
   "id": "f3f02260",
   "metadata": {
    "scrolled": true
   },
   "outputs": [
    {
     "name": "stdout",
     "output_type": "stream",
     "text": [
      "                        City       Date  Card Type Exp Type Gender  Amount  \\\n",
      "0               Delhi, India 2014-10-29       Gold    Bills      F   82475   \n",
      "1      Greater Mumbai, India 2014-08-22   Platinum    Bills      F   32555   \n",
      "2           Bengaluru, India 2014-08-27     Silver    Bills      F  101738   \n",
      "3      Greater Mumbai, India 2014-04-12  Signature    Bills      F  123424   \n",
      "4           Bengaluru, India 2015-05-05       Gold    Bills      F  171574   \n",
      "...                      ...        ...        ...      ...    ...     ...   \n",
      "26047         Kolkata, India 2014-06-22     Silver   Travel      F  128191   \n",
      "26048            Pune, India 2014-08-03  Signature   Travel      M  246316   \n",
      "26049       Hyderabad, India 2015-01-16     Silver   Travel      M  265019   \n",
      "26050          Kanpur, India 2014-09-14     Silver   Travel      M   88174   \n",
      "26051       Hyderabad, India 2013-10-19  Signature    Bills      M  184410   \n",
      "\n",
      "       Year    Quarter  \n",
      "0      2014  Quarter 4  \n",
      "1      2014  Quarter 3  \n",
      "2      2014  Quarter 3  \n",
      "3      2014  Quarter 2  \n",
      "4      2015  Quarter 2  \n",
      "...     ...        ...  \n",
      "26047  2014  Quarter 2  \n",
      "26048  2014  Quarter 3  \n",
      "26049  2015  Quarter 1  \n",
      "26050  2014  Quarter 3  \n",
      "26051  2013  Quarter 4  \n",
      "\n",
      "[26052 rows x 8 columns]\n"
     ]
    }
   ],
   "source": [
    "df['Quarter'] = df['Quarter'].apply(lambda x: f\"Quarter {x}\")\n",
    "print(df)"
   ]
  },
  {
   "cell_type": "code",
   "execution_count": 15,
   "id": "1bab296f",
   "metadata": {},
   "outputs": [
    {
     "data": {
      "image/png": "[encoded data removed]",
      "text/plain": [
       "<Figure size 1080x576 with 1 Axes>"
      ]
     },
     "metadata": {
      "needs_background": "light"
     },
     "output_type": "display_data"
    }
   ],
   "source": [
    "table = pd.pivot_table(df, values='Amount', index=['Gender', 'Year'], columns='Quarter', aggfunc=np.sum).plot(kind='bar',figsize=(15,8))\n",
    "table\n",
    "plt.legend(loc='upper right')\n",
    "plt.show()"
   ]
  },
  {
   "cell_type": "code",
   "execution_count": 16,
   "id": "852ffc63",
   "metadata": {},
   "outputs": [
    {
     "data": {
      "text/html": [
       "<div>\n",
       "<style scoped>\n",
       "    .dataframe tbody tr th:only-of-type {\n",
       "        vertical-align: middle;\n",
       "    }\n",
       "\n",
       "    .dataframe tbody tr th {\n",
       "        vertical-align: top;\n",
       "    }\n",
       "\n",
       "    .dataframe thead th {\n",
       "        text-align: right;\n",
       "    }\n",
       "</style>\n",
       "<table border=\"1\" class=\"dataframe\">\n",
       "  <thead>\n",
       "    <tr style=\"text-align: right;\">\n",
       "      <th></th>\n",
       "      <th>Quarter</th>\n",
       "      <th>Quarter 1</th>\n",
       "      <th>Quarter 2</th>\n",
       "      <th>Quarter 3</th>\n",
       "      <th>Quarter 4</th>\n",
       "    </tr>\n",
       "    <tr>\n",
       "      <th>Gender</th>\n",
       "      <th>Year</th>\n",
       "      <th></th>\n",
       "      <th></th>\n",
       "      <th></th>\n",
       "      <th></th>\n",
       "    </tr>\n",
       "  </thead>\n",
       "  <tbody>\n",
       "    <tr>\n",
       "      <th rowspan=\"3\" valign=\"top\">F</th>\n",
       "      <th>2013</th>\n",
       "      <td>NaN</td>\n",
       "      <td>NaN</td>\n",
       "      <td>NaN</td>\n",
       "      <td>333421908.0</td>\n",
       "    </tr>\n",
       "    <tr>\n",
       "      <th>2014</th>\n",
       "      <td>318768288.0</td>\n",
       "      <td>331421060.0</td>\n",
       "      <td>335382914.0</td>\n",
       "      <td>334689993.0</td>\n",
       "    </tr>\n",
       "    <tr>\n",
       "      <th>2015</th>\n",
       "      <td>344993188.0</td>\n",
       "      <td>206633679.0</td>\n",
       "      <td>NaN</td>\n",
       "      <td>NaN</td>\n",
       "    </tr>\n",
       "    <tr>\n",
       "      <th rowspan=\"3\" valign=\"top\">M</th>\n",
       "      <th>2013</th>\n",
       "      <td>NaN</td>\n",
       "      <td>NaN</td>\n",
       "      <td>NaN</td>\n",
       "      <td>280221976.0</td>\n",
       "    </tr>\n",
       "    <tr>\n",
       "      <th>2014</th>\n",
       "      <td>281336181.0</td>\n",
       "      <td>269947023.0</td>\n",
       "      <td>290613061.0</td>\n",
       "      <td>292555513.0</td>\n",
       "    </tr>\n",
       "    <tr>\n",
       "      <th>2015</th>\n",
       "      <td>279678969.0</td>\n",
       "      <td>175169620.0</td>\n",
       "      <td>NaN</td>\n",
       "      <td>NaN</td>\n",
       "    </tr>\n",
       "  </tbody>\n",
       "</table>\n",
       "</div>"
      ],
      "text/plain": [
       "Quarter        Quarter 1    Quarter 2    Quarter 3    Quarter 4\n",
       "Gender Year                                                    \n",
       "F      2013          NaN          NaN          NaN  333421908.0\n",
       "       2014  318768288.0  331421060.0  335382914.0  334689993.0\n",
       "       2015  344993188.0  206633679.0          NaN          NaN\n",
       "M      2013          NaN          NaN          NaN  280221976.0\n",
       "       2014  281336181.0  269947023.0  290613061.0  292555513.0\n",
       "       2015  279678969.0  175169620.0          NaN          NaN"
      ]
     },
     "execution_count": 16,
     "metadata": {},
     "output_type": "execute_result"
    }
   ],
   "source": [
    "table_2013 = pd.pivot_table(df, values='Amount', index=['Gender', 'Year'], columns='Quarter', aggfunc=np.sum)\n",
    "table_2013"
   ]
  },
  {
   "cell_type": "code",
   "execution_count": 17,
   "id": "50ce8046",
   "metadata": {},
   "outputs": [
    {
     "data": {
      "text/html": [
       "<div>\n",
       "<style scoped>\n",
       "    .dataframe tbody tr th:only-of-type {\n",
       "        vertical-align: middle;\n",
       "    }\n",
       "\n",
       "    .dataframe tbody tr th {\n",
       "        vertical-align: top;\n",
       "    }\n",
       "\n",
       "    .dataframe thead th {\n",
       "        text-align: right;\n",
       "    }\n",
       "</style>\n",
       "<table border=\"1\" class=\"dataframe\">\n",
       "  <thead>\n",
       "    <tr style=\"text-align: right;\">\n",
       "      <th></th>\n",
       "      <th>Quarter</th>\n",
       "      <th>Quarter 4</th>\n",
       "    </tr>\n",
       "    <tr>\n",
       "      <th>Gender</th>\n",
       "      <th>Year</th>\n",
       "      <th></th>\n",
       "    </tr>\n",
       "  </thead>\n",
       "  <tbody>\n",
       "    <tr>\n",
       "      <th>F</th>\n",
       "      <th>2013</th>\n",
       "      <td>333421908</td>\n",
       "    </tr>\n",
       "    <tr>\n",
       "      <th>M</th>\n",
       "      <th>2013</th>\n",
       "      <td>280221976</td>\n",
       "    </tr>\n",
       "  </tbody>\n",
       "</table>\n",
       "</div>"
      ],
      "text/plain": [
       "Quarter      Quarter 4\n",
       "Gender Year           \n",
       "F      2013  333421908\n",
       "M      2013  280221976"
      ]
     },
     "execution_count": 17,
     "metadata": {},
     "output_type": "execute_result"
    }
   ],
   "source": [
    "excelFraudSheet_Qtr_2013 = df[df.Year==2013]\n",
    "table_2013 = pd.pivot_table(excelFraudSheet_Qtr_2013, values='Amount', index=['Gender', 'Year'], columns='Quarter', aggfunc=np.sum)\n",
    "table_2013"
   ]
  },
  {
   "cell_type": "code",
   "execution_count": 18,
   "id": "c04b6ab4",
   "metadata": {},
   "outputs": [
    {
     "data": {
      "text/html": [
       "<div>\n",
       "<style scoped>\n",
       "    .dataframe tbody tr th:only-of-type {\n",
       "        vertical-align: middle;\n",
       "    }\n",
       "\n",
       "    .dataframe tbody tr th {\n",
       "        vertical-align: top;\n",
       "    }\n",
       "\n",
       "    .dataframe thead th {\n",
       "        text-align: right;\n",
       "    }\n",
       "</style>\n",
       "<table border=\"1\" class=\"dataframe\">\n",
       "  <thead>\n",
       "    <tr style=\"text-align: right;\">\n",
       "      <th></th>\n",
       "      <th>Quarter</th>\n",
       "      <th>Quarter 1</th>\n",
       "      <th>Quarter 2</th>\n",
       "      <th>Quarter 3</th>\n",
       "      <th>Quarter 4</th>\n",
       "    </tr>\n",
       "    <tr>\n",
       "      <th>Gender</th>\n",
       "      <th>Year</th>\n",
       "      <th></th>\n",
       "      <th></th>\n",
       "      <th></th>\n",
       "      <th></th>\n",
       "    </tr>\n",
       "  </thead>\n",
       "  <tbody>\n",
       "    <tr>\n",
       "      <th>F</th>\n",
       "      <th>2014</th>\n",
       "      <td>318768288</td>\n",
       "      <td>331421060</td>\n",
       "      <td>335382914</td>\n",
       "      <td>334689993</td>\n",
       "    </tr>\n",
       "    <tr>\n",
       "      <th>M</th>\n",
       "      <th>2014</th>\n",
       "      <td>281336181</td>\n",
       "      <td>269947023</td>\n",
       "      <td>290613061</td>\n",
       "      <td>292555513</td>\n",
       "    </tr>\n",
       "  </tbody>\n",
       "</table>\n",
       "</div>"
      ],
      "text/plain": [
       "Quarter      Quarter 1  Quarter 2  Quarter 3  Quarter 4\n",
       "Gender Year                                            \n",
       "F      2014  318768288  331421060  335382914  334689993\n",
       "M      2014  281336181  269947023  290613061  292555513"
      ]
     },
     "execution_count": 18,
     "metadata": {},
     "output_type": "execute_result"
    }
   ],
   "source": [
    "excelFraudSheet_Qtr_2014 = df[df.Year==2014]\n",
    "table_2014 = pd.pivot_table(excelFraudSheet_Qtr_2014, values='Amount', index=['Gender', 'Year'], columns='Quarter', aggfunc=np.sum)\n",
    "table_2014"
   ]
  },
  {
   "cell_type": "code",
   "execution_count": 19,
   "id": "425def49",
   "metadata": {
    "scrolled": true
   },
   "outputs": [
    {
     "data": {
      "text/html": [
       "<div>\n",
       "<style scoped>\n",
       "    .dataframe tbody tr th:only-of-type {\n",
       "        vertical-align: middle;\n",
       "    }\n",
       "\n",
       "    .dataframe tbody tr th {\n",
       "        vertical-align: top;\n",
       "    }\n",
       "\n",
       "    .dataframe thead th {\n",
       "        text-align: right;\n",
       "    }\n",
       "</style>\n",
       "<table border=\"1\" class=\"dataframe\">\n",
       "  <thead>\n",
       "    <tr style=\"text-align: right;\">\n",
       "      <th></th>\n",
       "      <th>Quarter</th>\n",
       "      <th>Quarter 1</th>\n",
       "      <th>Quarter 2</th>\n",
       "    </tr>\n",
       "    <tr>\n",
       "      <th>Gender</th>\n",
       "      <th>Year</th>\n",
       "      <th></th>\n",
       "      <th></th>\n",
       "    </tr>\n",
       "  </thead>\n",
       "  <tbody>\n",
       "    <tr>\n",
       "      <th>F</th>\n",
       "      <th>2015</th>\n",
       "      <td>344993188</td>\n",
       "      <td>206633679</td>\n",
       "    </tr>\n",
       "    <tr>\n",
       "      <th>M</th>\n",
       "      <th>2015</th>\n",
       "      <td>279678969</td>\n",
       "      <td>175169620</td>\n",
       "    </tr>\n",
       "  </tbody>\n",
       "</table>\n",
       "</div>"
      ],
      "text/plain": [
       "Quarter      Quarter 1  Quarter 2\n",
       "Gender Year                      \n",
       "F      2015  344993188  206633679\n",
       "M      2015  279678969  175169620"
      ]
     },
     "execution_count": 19,
     "metadata": {},
     "output_type": "execute_result"
    }
   ],
   "source": [
    "excelFraudSheet_Qtr_2015 = df[df.Year==2015]\n",
    "table_2015 = pd.pivot_table(excelFraudSheet_Qtr_2015, values='Amount', index=['Gender', 'Year'], columns='Quarter', aggfunc=np.sum)\n",
    "table_2015"
   ]
  },
  {
   "cell_type": "code",
   "execution_count": 27,
   "id": "d54f2aba",
   "metadata": {},
   "outputs": [
    {
     "name": "stdout",
     "output_type": "stream",
     "text": [
      "Year           2013                      \n",
      "Exp Type      Bills       Food       Fuel\n",
      "Amount    136165014  123284967  113938738\n"
     ]
    }
   ],
   "source": [
    "excelFraudSheet_ExpType_2013 = df[df.Year==2013]\n",
    "sum_ExpType_2013 = excelFraudSheet_ExpType_2013.groupby(['Year','Exp Type']).agg({'Amount': 'sum'}).nlargest(3,'Amount').sort_values('Exp Type', ascending=True).transpose()\n",
    "print(sum_ExpType_2013)"
   ]
  },
  {
   "cell_type": "code",
   "execution_count": 28,
   "id": "9b3c8498",
   "metadata": {},
   "outputs": [
    {
     "name": "stdout",
     "output_type": "stream",
     "text": [
      "Year           2014                      \n",
      "Exp Type      Bills       Food       Fuel\n",
      "Amount    543741413  491383057  481697184\n"
     ]
    }
   ],
   "source": [
    "excelFraudSheet_ExpType_2014 = df[df.Year==2014]\n",
    "sum_ExpType_2014 = excelFraudSheet_ExpType_2014.groupby(['Year','Exp Type']).agg({'Amount': 'sum'}).nlargest(3,'Amount').sort_values('Exp Type', ascending=True).transpose()\n",
    "print(sum_ExpType_2014)"
   ]
  },
  {
   "cell_type": "code",
   "execution_count": 29,
   "id": "7073ea71",
   "metadata": {},
   "outputs": [
    {
     "name": "stdout",
     "output_type": "stream",
     "text": [
      "Year           2015                      \n",
      "Exp Type      Bills       Food       Fuel\n",
      "Amount    227166046  210055985  193499899\n"
     ]
    }
   ],
   "source": [
    "excelFraudSheet_ExpType_2015 = df[df.Year==2015]\n",
    "sum_ExpType_2015 = excelFraudSheet_ExpType_2015.groupby(['Year','Exp Type']).agg({'Amount': 'sum'}).nlargest(3,'Amount').sort_values('Exp Type', ascending=True).transpose()\n",
    "print(sum_ExpType_2015)"
   ]
  },
  {
   "cell_type": "code",
   "execution_count": 30,
   "id": "b239e80d",
   "metadata": {},
   "outputs": [
    {
     "data": {
      "image/png": "[encoded data removed]",
      "text/plain": [
       "<Figure size 1080x576 with 1 Axes>"
      ]
     },
     "metadata": {
      "needs_background": "light"
     },
     "output_type": "display_data"
    }
   ],
   "source": [
    "table = pd.pivot_table(df, values='Amount', index= 'Year', columns='Exp Type', aggfunc=np.sum).plot(kind='bar',figsize=(15,8))\n",
    "table\n",
    "plt.legend(loc='upper right')\n",
    "plt.show()"
   ]
  },
  {
   "cell_type": "code",
   "execution_count": null,
   "id": "cdb8cc4e",
   "metadata": {},
   "outputs": [],
   "source": []
  }
 ],
 "metadata": {
  "kernelspec": {
   "display_name": "Python 3",
   "language": "python",
   "name": "python3"
  },
  "language_info": {
   "codemirror_mode": {
    "name": "ipython",
    "version": 3
   },
   "file_extension": ".py",
   "mimetype": "text/x-python",
   "name": "python",
   "nbconvert_exporter": "python",
   "pygments_lexer": "ipython3",
   "version": "3.8.8"
  }
 },
 "nbformat": 4,
 "nbformat_minor": 5
}
